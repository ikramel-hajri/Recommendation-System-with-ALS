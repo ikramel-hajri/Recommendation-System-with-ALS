{
  "nbformat": 4,
  "nbformat_minor": 0,
  "metadata": {
    "colab": {
      "provenance": []
    },
    "kernelspec": {
      "name": "python3",
      "display_name": "Python 3"
    },
    "language_info": {
      "name": "python"
    }
  },
  "cells": [
    {
      "cell_type": "markdown",
      "source": [
        "# Recommendation System with ALS"
      ],
      "metadata": {
        "id": "Rbp2JE2NOMBV"
      }
    },
    {
      "cell_type": "code",
      "execution_count": 3,
      "metadata": {
        "id": "QXljwa1H7_WM"
      },
      "outputs": [],
      "source": [
        "from pyspark.mllib.recommendation import ALS, MatrixFactorizationModel, Rating"
      ]
    },
    {
      "cell_type": "code",
      "source": [
        "from pyspark.sql import SparkSession\n",
        "from pyspark.mllib.recommendation import ALS, Rating\n",
        "\n",
        "# Create a Spark session\n",
        "spark = SparkSession.builder.appName(\"MovieLensRecommendation\").getOrCreate()\n"
      ],
      "metadata": {
        "id": "4eUSqOPrBEZw"
      },
      "execution_count": 4,
      "outputs": []
    },
    {
      "cell_type": "code",
      "source": [
        "# Load and parse the MovieLens 25M Dataset\n",
        "data = spark.read.option(\"header\", \"true\").csv(\"ratings.csv\")\n",
        "ratings = data.rdd.map(lambda l: l.value.split(',')) \\\n",
        "    .map(lambda l: Rating(int(l[0]), int(l[1]), float(l[2])))\n"
      ],
      "metadata": {
        "id": "dLQYBEm58BtQ"
      },
      "execution_count": 5,
      "outputs": []
    },
    {
      "cell_type": "code",
      "source": [
        "# Extract relevant columns and convert to RDD\n",
        "ratings = data.select(\"userId\", \"movieId\", \"rating\").rdd.map(lambda row: Rating(int(row.userId), int(row.movieId), float(row.rating)))\n",
        "\n",
        "# Build the recommendation model using ALS\n",
        "rank = 10\n",
        "numIterations = 10\n",
        "model = ALS.train(ratings, rank, numIterations)"
      ],
      "metadata": {
        "id": "LbNhAO0XC0D1"
      },
      "execution_count": 6,
      "outputs": []
    },
    {
      "cell_type": "code",
      "source": [
        "# Evaluate the model on training data\n",
        "testdata = ratings.map(lambda p: (p[0], p[1]))\n",
        "predictions = model.predictAll(testdata).map(lambda r: ((r[0], r[1]), r[2]))\n",
        "ratesAndPreds = ratings.map(lambda r: ((r[0], r[1]), r[2])).join(predictions)\n",
        "MSE = ratesAndPreds.map(lambda r: (r[1][0] - r[1][1])**2).mean()\n",
        "print(\"Mean Squared Error = \" + str(MSE))\n"
      ],
      "metadata": {
        "colab": {
          "base_uri": "https://localhost:8080/",
          "height": 0
        },
        "id": "wrn55TkIFLDu",
        "outputId": "d39276fb-865f-40bd-b115-aa1d3996b30b"
      },
      "execution_count": 7,
      "outputs": [
        {
          "output_type": "stream",
          "name": "stdout",
          "text": [
            "Mean Squared Error = 0.47958724590974827\n"
          ]
        }
      ]
    },
    {
      "cell_type": "code",
      "source": [
        "# Save and load model\n",
        "model.save(spark.sparkContext, \"target/tmp/myCollaborativeFilter\")\n",
        "sameModel = MatrixFactorizationModel.load(spark.sparkContext, \"target/tmp/myCollaborativeFilter\")"
      ],
      "metadata": {
        "id": "Lby8kzjuFdEe"
      },
      "execution_count": 8,
      "outputs": []
    },
    {
      "cell_type": "markdown",
      "source": [
        "## Build the recommendation model using ALS with implicit feedback\n"
      ],
      "metadata": {
        "id": "f_MWoftJPs12"
      }
    },
    {
      "cell_type": "code",
      "source": [
        "model = ALS.trainImplicit(ratings, rank, numIterations, alpha=0.01)"
      ],
      "metadata": {
        "id": "gkaUs3LCFdkq"
      },
      "execution_count": 9,
      "outputs": []
    },
    {
      "cell_type": "code",
      "source": [
        "user_id = 123\n",
        "\n",
        "# Generate all recommendations for the user\n",
        "all_recommendations = model.recommendProducts(user_id, 10)  # Adjust the number as needed\n",
        "\n",
        "# Sort the recommendations by rating in descending order\n",
        "sorted_recommendations = sorted(all_recommendations, key=lambda x: x.rating, reverse=True)\n",
        "\n",
        "# Display the top N recommendations\n",
        "top_n = 10\n",
        "for recommendation in sorted_recommendations[:top_n]:\n",
        "    print(f\"Item ID: {recommendation.product}, Score: {recommendation.rating}\")"
      ],
      "metadata": {
        "colab": {
          "base_uri": "https://localhost:8080/"
        },
        "id": "HVWqxHrfHtrN",
        "outputId": "dd368bce-d3a9-49d9-a8c0-02e55f0205b3"
      },
      "execution_count": 14,
      "outputs": [
        {
          "output_type": "stream",
          "name": "stdout",
          "text": [
            "Item ID: 780, Score: 0.5159844888222065\n",
            "Item ID: 589, Score: 0.48177784795337475\n",
            "Item ID: 733, Score: 0.46783176842841345\n",
            "Item ID: 648, Score: 0.4618629639947861\n",
            "Item ID: 457, Score: 0.4482309971176398\n",
            "Item ID: 380, Score: 0.44359031858646353\n",
            "Item ID: 480, Score: 0.4413461975980634\n",
            "Item ID: 736, Score: 0.43905081933755336\n",
            "Item ID: 377, Score: 0.43535410787109874\n",
            "Item ID: 32, Score: 0.41443134907794255\n"
          ]
        }
      ]
    },
    {
      "cell_type": "code",
      "source": [],
      "metadata": {
        "id": "1iaBVZP6OYa7"
      },
      "execution_count": null,
      "outputs": []
    }
  ]
}